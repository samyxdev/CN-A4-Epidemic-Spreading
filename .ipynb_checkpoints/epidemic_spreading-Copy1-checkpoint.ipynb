{
 "cells": [
  {
   "cell_type": "code",
   "execution_count": 4,
   "id": "df167a8c",
   "metadata": {},
   "outputs": [
    {
     "name": "stdout",
     "output_type": "stream",
     "text": [
      "The cython extension is already loaded. To reload it, use:\n",
      "  %reload_ext cython\n"
     ]
    }
   ],
   "source": [
    "import igraph as ig\n",
    "import matplotlib.pyplot as plt\n",
    "import numpy as np\n",
    "from copy import deepcopy\n",
    "import time\n",
    "\n",
    "\n",
    "%load_ext cython"
   ]
  },
  {
   "cell_type": "code",
   "execution_count": 9,
   "id": "7dd52da7",
   "metadata": {},
   "outputs": [],
   "source": [
    "%%cython\n",
    "import numpy as np\n",
    "import igraph as ig\n",
    "import time\n",
    "from libc.math cimport pow\n",
    "\n",
    "\n",
    "def simulation(g, int len_g, int[:] state, int[:] old_state, double mu, double beta):\n",
    "        \n",
    "    # Constants\n",
    "    cdef double P0 = 0.2\n",
    "    cdef int TMAX = 1000\n",
    "    cdef int TTRANS = 900\n",
    "    cdef double[:] infected_ratio_list = np.zeros(TMAX - TTRANS)\n",
    "    cdef long start_time\n",
    "    cdef int i, j\n",
    "    cdef int infected_vertices\n",
    "    cdef int v\n",
    "    \n",
    "    \n",
    "    #simulation loop\n",
    "    for i in range(TMAX):\n",
    "        \n",
    "        # update old state: old_stae = state[:]\n",
    "        for j in range(len_g):\n",
    "            old_state[j] = state[j]\n",
    "        \n",
    "        # update states of all nodes\n",
    "        for j in range(len_g):\n",
    "            # if old node state is I\n",
    "            if old_state[j]:\n",
    "                state[j] = np.random.binomial(1, mu)\n",
    "            # if old node state is S\n",
    "            else:\n",
    "                infected_vertices = sum([old_state[v] for v in g.neighbors(j)]) # number of infected neighbors\n",
    "                state[j] = np.random.binomial(1, 1 - pow((1 - beta), infected_vertices)\n",
    "            \n",
    "            # we compute infection ratio from iteration 900\n",
    "            if i >= TTRANS:\n",
    "                infected_ratio_list[i - TTRANS] += state[j]\n",
    "                infected_ratio_list[i - TTRANS] /= len_g\n",
    "\n",
    "        \n",
    "    return np.array(infected_ratio_list)"
   ]
  },
  {
   "cell_type": "code",
   "execution_count": 10,
   "id": "0c342bcf",
   "metadata": {},
   "outputs": [],
   "source": [
    "MU = 0.5\n",
    "BETA = 0.5\n",
    "P0 = 0.2"
   ]
  },
  {
   "cell_type": "code",
   "execution_count": 11,
   "id": "0c70966a",
   "metadata": {},
   "outputs": [],
   "source": [
    "len_g = 1000\n",
    "g = ig.Graph.Barabasi(len_g, 5)"
   ]
  },
  {
   "cell_type": "code",
   "execution_count": 12,
   "id": "82ec3096",
   "metadata": {
    "scrolled": true
   },
   "outputs": [
    {
     "name": "stdout",
     "output_type": "stream",
     "text": [
      "Iteration number 0 requires 3.8046789169311523 seconds\n",
      "Iteration number 1 requires 3.379983425140381 seconds\n",
      "Iteration number 2 requires 3.3533775806427 seconds\n",
      "Iteration number 3 requires 3.4071767330169678 seconds\n",
      "Iteration number 4 requires 3.4385058879852295 seconds\n",
      "Iteration number 5 requires 3.506831645965576 seconds\n",
      "Iteration number 6 requires 3.620441436767578 seconds\n",
      "Iteration number 7 requires 3.7007315158843994 seconds\n",
      "Iteration number 8 requires 3.7799465656280518 seconds\n",
      "Iteration number 9 requires 3.585585355758667 seconds\n",
      "Iteration number 10 requires 3.910339832305908 seconds\n",
      "Iteration number 11 requires 3.4658451080322266 seconds\n",
      "Iteration number 12 requires 4.306998252868652 seconds\n",
      "Iteration number 13 requires 4.040379047393799 seconds\n",
      "Iteration number 14 requires 3.924994945526123 seconds\n",
      "Iteration number 15 requires 3.732997417449951 seconds\n",
      "Iteration number 16 requires 3.6803512573242188 seconds\n",
      "Iteration number 17 requires 3.519315719604492 seconds\n",
      "Iteration number 18 requires 3.7889318466186523 seconds\n",
      "Iteration number 19 requires 3.5655677318573 seconds\n",
      "Iteration number 20 requires 3.4618754386901855 seconds\n",
      "Iteration number 21 requires 3.47233247756958 seconds\n",
      "Iteration number 22 requires 3.5497827529907227 seconds\n",
      "Iteration number 23 requires 3.667400598526001 seconds\n",
      "Iteration number 24 requires 4.026173830032349 seconds\n",
      "Iteration number 25 requires 3.5398221015930176 seconds\n",
      "Iteration number 26 requires 3.3910887241363525 seconds\n",
      "Iteration number 27 requires 3.499641180038452 seconds\n",
      "Iteration number 28 requires 3.9198150634765625 seconds\n",
      "Iteration number 29 requires 3.682305335998535 seconds\n",
      "Iteration number 30 requires 3.6217949390411377 seconds\n",
      "Iteration number 31 requires 3.811398983001709 seconds\n",
      "Iteration number 32 requires 3.554926872253418 seconds\n",
      "Iteration number 33 requires 3.704211950302124 seconds\n",
      "Iteration number 34 requires 3.8373007774353027 seconds\n",
      "Iteration number 35 requires 3.450101375579834 seconds\n",
      "Iteration number 36 requires 3.686052083969116 seconds\n",
      "Iteration number 37 requires 4.035785436630249 seconds\n",
      "Iteration number 38 requires 3.722904920578003 seconds\n",
      "Iteration number 39 requires 3.394509792327881 seconds\n",
      "Iteration number 40 requires 3.470928192138672 seconds\n",
      "Iteration number 41 requires 3.6588194370269775 seconds\n",
      "Iteration number 42 requires 3.6203911304473877 seconds\n",
      "Iteration number 43 requires 3.5762622356414795 seconds\n",
      "Iteration number 44 requires 3.464796781539917 seconds\n",
      "Iteration number 45 requires 3.4612958431243896 seconds\n",
      "Iteration number 46 requires 3.697974920272827 seconds\n",
      "Iteration number 47 requires 3.6404130458831787 seconds\n",
      "Iteration number 48 requires 3.6707942485809326 seconds\n",
      "Iteration number 49 requires 3.5036628246307373 seconds\n",
      "Iteration number 50 requires 3.3081939220428467 seconds\n",
      "Iteration number 51 requires 3.2822787761688232 seconds\n",
      "Iteration number 52 requires 3.3600919246673584 seconds\n",
      "Iteration number 53 requires 3.6264569759368896 seconds\n",
      "Iteration number 54 requires 3.8966481685638428 seconds\n",
      "Iteration number 55 requires 3.9943161010742188 seconds\n",
      "Iteration number 56 requires 3.491716146469116 seconds\n",
      "Iteration number 57 requires 3.356929302215576 seconds\n",
      "Iteration number 58 requires 3.412912130355835 seconds\n",
      "Iteration number 59 requires 3.7377543449401855 seconds\n",
      "Iteration number 60 requires 3.585982084274292 seconds\n",
      "Iteration number 61 requires 3.894078254699707 seconds\n",
      "Iteration number 62 requires 3.59649395942688 seconds\n",
      "Iteration number 63 requires 3.454366445541382 seconds\n",
      "Iteration number 64 requires 3.3767106533050537 seconds\n",
      "Iteration number 65 requires 3.450399875640869 seconds\n",
      "Iteration number 66 requires 3.5384814739227295 seconds\n",
      "Iteration number 67 requires 3.66007924079895 seconds\n",
      "Iteration number 68 requires 3.446680784225464 seconds\n",
      "Iteration number 69 requires 3.6386642456054688 seconds\n",
      "Iteration number 70 requires 3.427288770675659 seconds\n",
      "Iteration number 71 requires 3.438864231109619 seconds\n",
      "Iteration number 72 requires 3.5103328227996826 seconds\n",
      "Iteration number 73 requires 3.589804172515869 seconds\n",
      "Iteration number 74 requires 3.804008960723877 seconds\n",
      "Iteration number 75 requires 3.69735050201416 seconds\n",
      "Iteration number 76 requires 3.8261148929595947 seconds\n",
      "Iteration number 77 requires 3.7043378353118896 seconds\n",
      "Iteration number 78 requires 3.8892993927001953 seconds\n",
      "Iteration number 79 requires 3.4905037879943848 seconds\n"
     ]
    },
    {
     "ename": "KeyboardInterrupt",
     "evalue": "",
     "output_type": "error",
     "traceback": [
      "\u001b[1;31m---------------------------------------------------------------------------\u001b[0m",
      "\u001b[1;31mKeyboardInterrupt\u001b[0m                         Traceback (most recent call last)",
      "Input \u001b[1;32mIn [12]\u001b[0m, in \u001b[0;36m<cell line: 4>\u001b[1;34m()\u001b[0m\n\u001b[0;32m      4\u001b[0m \u001b[38;5;28;01mfor\u001b[39;00m i \u001b[38;5;129;01min\u001b[39;00m \u001b[38;5;28mrange\u001b[39m(\u001b[38;5;241m100\u001b[39m):\n\u001b[0;32m      5\u001b[0m     st \u001b[38;5;241m=\u001b[39m time\u001b[38;5;241m.\u001b[39mtime()\n\u001b[1;32m----> 6\u001b[0m     a \u001b[38;5;241m=\u001b[39m \u001b[43msimulation\u001b[49m\u001b[43m(\u001b[49m\u001b[43mg\u001b[49m\u001b[43m,\u001b[49m\u001b[43m \u001b[49m\u001b[43mlen_g\u001b[49m\u001b[43m,\u001b[49m\u001b[43m \u001b[49m\u001b[43mstate\u001b[49m\u001b[43m,\u001b[49m\u001b[43m \u001b[49m\u001b[43mold_state\u001b[49m\u001b[43m,\u001b[49m\u001b[43m \u001b[49m\u001b[43mMU\u001b[49m\u001b[43m,\u001b[49m\u001b[43m \u001b[49m\u001b[43mBETA\u001b[49m\u001b[43m)\u001b[49m\n\u001b[0;32m      7\u001b[0m     \u001b[38;5;28mprint\u001b[39m(\u001b[38;5;124m\"\u001b[39m\u001b[38;5;124mIteration number \u001b[39m\u001b[38;5;132;01m{}\u001b[39;00m\u001b[38;5;124m requires \u001b[39m\u001b[38;5;132;01m{}\u001b[39;00m\u001b[38;5;124m seconds\u001b[39m\u001b[38;5;124m\"\u001b[39m\u001b[38;5;241m.\u001b[39mformat(i, time\u001b[38;5;241m.\u001b[39mtime()\u001b[38;5;241m-\u001b[39mst))\n\u001b[0;32m      8\u001b[0m     state \u001b[38;5;241m=\u001b[39m np\u001b[38;5;241m.\u001b[39marray([np\u001b[38;5;241m.\u001b[39mrandom\u001b[38;5;241m.\u001b[39mbinomial(\u001b[38;5;241m1\u001b[39m, P0) \u001b[38;5;28;01mfor\u001b[39;00m _ \u001b[38;5;129;01min\u001b[39;00m \u001b[38;5;28mrange\u001b[39m(len_g)])\n",
      "\u001b[1;31mKeyboardInterrupt\u001b[0m: "
     ]
    }
   ],
   "source": [
    "state = np.array([np.random.binomial(1, P0) for _ in range(len_g)])\n",
    "old_state = state[:]\n",
    "\n",
    "for i in range(100):\n",
    "    st = time.time()\n",
    "    a = simulation(g, len_g, state, old_state, MU, BETA)\n",
    "    print(\"Iteration number {} requires {} seconds\".format(i, time.time()-st))\n",
    "    state = np.array([np.random.binomial(1, P0) for _ in range(len_g)])\n",
    "    old_state = state[:]  "
   ]
  }
 ],
 "metadata": {
  "kernelspec": {
   "display_name": "Python 3 (ipykernel)",
   "language": "python",
   "name": "python3"
  },
  "language_info": {
   "codemirror_mode": {
    "name": "ipython",
    "version": 3
   },
   "file_extension": ".py",
   "mimetype": "text/x-python",
   "name": "python",
   "nbconvert_exporter": "python",
   "pygments_lexer": "ipython3",
   "version": "3.9.7"
  }
 },
 "nbformat": 4,
 "nbformat_minor": 5
}
