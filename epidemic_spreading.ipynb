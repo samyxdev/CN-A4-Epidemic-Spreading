{
 "cells": [
  {
   "cell_type": "code",
   "execution_count": 18,
   "id": "8990e17e",
   "metadata": {},
   "outputs": [
    {
     "name": "stdout",
     "output_type": "stream",
     "text": [
      "The Cython extension is already loaded. To reload it, use:\n",
      "  %reload_ext Cython\n"
     ]
    }
   ],
   "source": [
    "import igraph as ig\n",
    "import matplotlib.pyplot as plt\n",
    "import numpy as np\n",
    "from copy import deepcopy\n",
    "from tqdm import tqdm\n",
    "import time\n",
    "\n",
    "# import cython module for allowinG c compilation and static binding to improve the performance\n",
    "%load_ext Cython"
   ]
  },
  {
   "cell_type": "markdown",
   "id": "feb7e650",
   "metadata": {},
   "source": [
    "### Parameters"
   ]
  },
  {
   "cell_type": "code",
   "execution_count": 40,
   "id": "04f98e0a",
   "metadata": {},
   "outputs": [],
   "source": [
    "%%cython\n",
    "import igraph as ig\n",
    "import numpy as np\n",
    "\n",
    "cdef double BETA = 0.5\n",
    "cdef double MU = 0.5\n",
    "cdef double P0 = 0.2\n",
    "cdef int TMAX = 1000\n",
    "cdef int TRANS = 900\n",
    "cdef int NREP = 100\n",
    "\n",
    "cdef int len_g = 100000\n",
    "\n",
    "# initialize graph\n",
    "g = ig.Graph.Barabasi(len_g, 5)\n",
    "\n",
    "state = [np.random.binomial(1, P0) for _ in range(len_g)] # 1 means infected\n",
    "old_state = state[:]\n",
    "\n",
    "def update_node_state(g, state, old_state, vertex_id, mu=MU, beta=BETA):\n",
    "    if old_state[vertex_id]:\n",
    "        state[vertex_id] = np.random.binomial(1, mu)\n",
    "\n",
    "    else:\n",
    "        infected_vertices = sum([old_state[v] for v in g.neighbors(vertex_id)])\n",
    "        state[vertex_id] = np.random.binomial(1, 1 - (1 - beta)**infected_vertices)\n",
    "\n",
    "    return state[vertex_id]"
   ]
  },
  {
   "cell_type": "code",
   "execution_count": 41,
   "id": "1bb4f193",
   "metadata": {},
   "outputs": [
    {
     "name": "stdout",
     "output_type": "stream",
     "text": [
      "Iteration number: 0\n",
      "Iteration required time: 0.014929533004760742\n",
      "\n",
      "Iteration number: 100\n",
      "Iteration required time: 0.0069811344146728516\n",
      "\n",
      "Iteration number: 200\n",
      "Iteration required time: 0.005944490432739258\n",
      "\n",
      "Iteration number: 300\n",
      "Iteration required time: 0.0\n",
      "\n",
      "Iteration number: 400\n",
      "Iteration required time: 0.0\n",
      "\n",
      "Iteration number: 500\n",
      "Iteration required time: 0.0\n",
      "\n",
      "Iteration number: 600\n",
      "Iteration required time: 0.006824493408203125\n",
      "\n",
      "Iteration number: 700\n",
      "Iteration required time: 0.005978822708129883\n",
      "\n",
      "Iteration number: 800\n",
      "Iteration required time: 0.0059969425201416016\n",
      "\n",
      "Iteration number: 900\n",
      "Iteration required time: 0.007992029190063477\n",
      "\n",
      "\n",
      "Total required time:5.987779378890991 seconds\n"
     ]
    }
   ],
   "source": [
    "infected_ratio_list = []\n",
    "# Simulation loop\n",
    "start_time = time.time()\n",
    "for i in range(TMAX):\n",
    "    if i%100 == 0:\n",
    "        print(\"Iteration number: {}\".format(i))\n",
    "        start = time.time()\n",
    "    old_state = state[:]\n",
    "\n",
    "    infected_ratio_list.append(0)\n",
    "\n",
    "    for j in range(len_g):\n",
    "        infected_ratio_list[i] += update_node_state(g, state, old_state, j)\n",
    "\n",
    "    infected_ratio_list[i] /= len_g\n",
    "    \n",
    "    if i%100 == 0:\n",
    "        print(\"Iteration required time: {}\\n\".format(time.time()-start))\n",
    "    \n",
    "end_time = time.time()\n",
    "print(\"\\nTotal required time:{} seconds\".format(end_time-start_time))\n"
   ]
  },
  {
   "cell_type": "code",
   "execution_count": null,
   "id": "795a959f",
   "metadata": {},
   "outputs": [],
   "source": [
    "#ig.plot(g)\n",
    "plt.plot(infected_ratio_list)\n",
    "plt.show()"
   ]
  }
 ],
 "metadata": {
  "kernelspec": {
   "display_name": "Python 3 (ipykernel)",
   "language": "python",
   "name": "python3"
  },
  "language_info": {
   "codemirror_mode": {
    "name": "ipython",
    "version": 3
   },
   "file_extension": ".py",
   "mimetype": "text/x-python",
   "name": "python",
   "nbconvert_exporter": "python",
   "pygments_lexer": "ipython3",
   "version": "3.9.7"
  }
 },
 "nbformat": 4,
 "nbformat_minor": 5
}
