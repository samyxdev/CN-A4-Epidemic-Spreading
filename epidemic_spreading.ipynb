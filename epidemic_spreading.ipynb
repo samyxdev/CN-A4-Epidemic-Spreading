{
 "cells": [
  {
   "cell_type": "code",
   "execution_count": 13,
   "id": "df167a8c",
   "metadata": {},
   "outputs": [
    {
     "name": "stdout",
     "output_type": "stream",
     "text": [
      "The cython extension is already loaded. To reload it, use:\n",
      "  %reload_ext cython\n"
     ]
    }
   ],
   "source": [
    "import igraph as ig\n",
    "import matplotlib.pyplot as plt\n",
    "import numpy as np\n",
    "from copy import deepcopy\n",
    "import time\n",
    "\n",
    "\n",
    "%load_ext cython"
   ]
  },
  {
   "cell_type": "code",
   "execution_count": null,
   "id": "7dd52da7",
   "metadata": {},
   "outputs": [],
   "source": [
    "%%cython\n",
    "import numpy as np\n",
    "import igraph as ig\n",
    "import time\n",
    "\n",
    "\n",
    "def update_node_state(g, int[:] state, int[:] old_state, int vertex_id, double mu, double beta):\n",
    "    cdef int infected_vertices\n",
    "    cdef int v\n",
    "    if old_state[vertex_id]:\n",
    "        state[vertex_id] = np.random.binomial(1, mu)\n",
    "\n",
    "    else:\n",
    "        infected_vertices = sum([old_state[v] for v in g.neighbors(vertex_id)])\n",
    "        state[vertex_id] = np.random.binomial(1, 1 - (1 - beta)**infected_vertices)\n",
    "\n",
    "    return state[vertex_id]\n",
    "\n",
    "\n",
    "\n",
    "def simulation(g, int len_g, int[:] state, int[:] old_state, double mu, double beta):\n",
    "    \n",
    "    # Constants\n",
    "    cdef double P0 = 0.2\n",
    "    cdef int TMAX = 1000\n",
    "    cdef int TSKIP = 100\n",
    "    cdef double[:] infected_ratio_list = np.zeros(TMAX - TSKIP)\n",
    "    cdef long start_time\n",
    "    cdef int i, j\n",
    "    \n",
    "    start_time = time.time()\n",
    "    #simulation loop\n",
    "    for i in range(TMAX):\n",
    "        start_time = time.time()\n",
    "        \n",
    "        # update old state\n",
    "        for j in range(len_g):\n",
    "            old_state[j] = state[j]\n",
    "        \n",
    "        # To skip the saving of transionary states\n",
    "        if i >= TSKIP:\n",
    "            for j in range(len_g):\n",
    "                infected_ratio_list[i - TSKIP] += update_node_state(g, state, old_state, j, mu, beta)\n",
    "            infected_ratio_list[i - TSKIP] /= len_g\n",
    "        else:\n",
    "            for j in range(len_g):\n",
    "                update_node_state(g, state, old_state, j, mu, beta)\n",
    "        \n",
    "    return np.array(infected_ratio_list)"
   ]
  },
  {
   "cell_type": "code",
   "execution_count": 7,
   "id": "0c342bcf",
   "metadata": {},
   "outputs": [],
   "source": [
    "MU = 0.5\n",
    "BETA = 0.5\n",
    "P0 = 0.2"
   ]
  },
  {
   "cell_type": "code",
   "execution_count": 8,
   "id": "0c70966a",
   "metadata": {},
   "outputs": [],
   "source": [
    "len_g = 1000\n",
    "g = ig.Graph.Barabasi(len_g, 5)"
   ]
  },
  {
   "cell_type": "code",
   "execution_count": 17,
   "id": "82ec3096",
   "metadata": {
    "scrolled": true
   },
   "outputs": [
    {
     "name": "stdout",
     "output_type": "stream",
     "text": [
      "Iteration number 0 requires 5.2865118980407715 seconds\n",
      "Iteration number 1 requires 4.855099439620972 seconds\n",
      "Iteration number 2 requires 4.968764543533325 seconds\n",
      "Iteration number 3 requires 4.889921426773071 seconds\n",
      "Iteration number 4 requires 4.756247282028198 seconds\n",
      "Iteration number 5 requires 4.950589418411255 seconds\n",
      "Iteration number 6 requires 4.957923173904419 seconds\n",
      "Iteration number 7 requires 5.101411581039429 seconds\n",
      "Iteration number 8 requires 4.770010471343994 seconds\n",
      "Iteration number 9 requires 5.181143760681152 seconds\n",
      "Iteration number 10 requires 4.889872074127197 seconds\n",
      "Iteration number 11 requires 4.96875 seconds\n",
      "Iteration number 12 requires 5.082493782043457 seconds\n",
      "Iteration number 13 requires 4.960771799087524 seconds\n",
      "Iteration number 14 requires 4.778923034667969 seconds\n",
      "Iteration number 15 requires 4.920834302902222 seconds\n",
      "Iteration number 16 requires 4.862030982971191 seconds\n",
      "Iteration number 17 requires 4.863071918487549 seconds\n",
      "Iteration number 18 requires 5.2057414054870605 seconds\n",
      "Iteration number 19 requires 5.063275337219238 seconds\n",
      "Iteration number 20 requires 5.028552770614624 seconds\n",
      "Iteration number 21 requires 4.6577839851379395 seconds\n",
      "Iteration number 22 requires 4.925966739654541 seconds\n",
      "Iteration number 23 requires 5.14296555519104 seconds\n",
      "Iteration number 24 requires 5.1292564868927 seconds\n",
      "Iteration number 25 requires 5.433116674423218 seconds\n",
      "Iteration number 26 requires 5.517922639846802 seconds\n",
      "Iteration number 27 requires 5.320492267608643 seconds\n",
      "Iteration number 28 requires 5.551368951797485 seconds\n",
      "Iteration number 29 requires 5.185816287994385 seconds\n",
      "Iteration number 30 requires 5.70684552192688 seconds\n",
      "Iteration number 31 requires 5.756556987762451 seconds\n",
      "Iteration number 32 requires 5.2034289836883545 seconds\n",
      "Iteration number 33 requires 4.714487552642822 seconds\n",
      "Iteration number 34 requires 5.214757919311523 seconds\n",
      "Iteration number 35 requires 4.8811421394348145 seconds\n"
     ]
    },
    {
     "ename": "KeyboardInterrupt",
     "evalue": "",
     "output_type": "error",
     "traceback": [
      "\u001b[1;31m---------------------------------------------------------------------------\u001b[0m",
      "\u001b[1;31mKeyboardInterrupt\u001b[0m                         Traceback (most recent call last)",
      "Input \u001b[1;32mIn [17]\u001b[0m, in \u001b[0;36m<cell line: 4>\u001b[1;34m()\u001b[0m\n\u001b[0;32m      4\u001b[0m \u001b[38;5;28;01mfor\u001b[39;00m i \u001b[38;5;129;01min\u001b[39;00m \u001b[38;5;28mrange\u001b[39m(\u001b[38;5;241m100\u001b[39m):\n\u001b[0;32m      5\u001b[0m     st \u001b[38;5;241m=\u001b[39m time\u001b[38;5;241m.\u001b[39mtime()\n\u001b[1;32m----> 6\u001b[0m     a \u001b[38;5;241m=\u001b[39m \u001b[43msimulation\u001b[49m\u001b[43m(\u001b[49m\u001b[43mg\u001b[49m\u001b[43m,\u001b[49m\u001b[43m \u001b[49m\u001b[43mlen_g\u001b[49m\u001b[43m,\u001b[49m\u001b[43m \u001b[49m\u001b[43mstate\u001b[49m\u001b[43m,\u001b[49m\u001b[43m \u001b[49m\u001b[43mold_state\u001b[49m\u001b[43m,\u001b[49m\u001b[43m \u001b[49m\u001b[43mMU\u001b[49m\u001b[43m,\u001b[49m\u001b[43m \u001b[49m\u001b[43mBETA\u001b[49m\u001b[43m)\u001b[49m\n\u001b[0;32m      7\u001b[0m     \u001b[38;5;28mprint\u001b[39m(\u001b[38;5;124m\"\u001b[39m\u001b[38;5;124mIteration number \u001b[39m\u001b[38;5;132;01m{}\u001b[39;00m\u001b[38;5;124m requires \u001b[39m\u001b[38;5;132;01m{}\u001b[39;00m\u001b[38;5;124m seconds\u001b[39m\u001b[38;5;124m\"\u001b[39m\u001b[38;5;241m.\u001b[39mformat(i, time\u001b[38;5;241m.\u001b[39mtime()\u001b[38;5;241m-\u001b[39mst))\n\u001b[0;32m      8\u001b[0m     state \u001b[38;5;241m=\u001b[39m np\u001b[38;5;241m.\u001b[39marray([np\u001b[38;5;241m.\u001b[39mrandom\u001b[38;5;241m.\u001b[39mbinomial(\u001b[38;5;241m1\u001b[39m, P0) \u001b[38;5;28;01mfor\u001b[39;00m _ \u001b[38;5;129;01min\u001b[39;00m \u001b[38;5;28mrange\u001b[39m(len_g)])\n",
      "\u001b[1;31mKeyboardInterrupt\u001b[0m: "
     ]
    }
   ],
   "source": [
    "state = np.array([np.random.binomial(1, P0) for _ in range(len_g)])\n",
    "old_state = state[:]\n",
    "\n",
    "for i in range(100):\n",
    "    st = time.time()\n",
    "    a = simulation(g, len_g, state, old_state, MU, BETA)\n",
    "    print(\"Iteration number {} requires {} seconds\".format(i, time.time()-st))\n",
    "    state = np.array([np.random.binomial(1, P0) for _ in range(len_g)])\n",
    "    old_state = state[:]  "
   ]
  }
 ],
 "metadata": {
  "kernelspec": {
   "display_name": "Python 3 (ipykernel)",
   "language": "python",
   "name": "python3"
  },
  "language_info": {
   "codemirror_mode": {
    "name": "ipython",
    "version": 3
   },
   "file_extension": ".py",
   "mimetype": "text/x-python",
   "name": "python",
   "nbconvert_exporter": "python",
   "pygments_lexer": "ipython3",
   "version": "3.9.7"
  }
 },
 "nbformat": 4,
 "nbformat_minor": 5
}
