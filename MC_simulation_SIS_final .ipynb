{
 "cells": [
  {
   "cell_type": "markdown",
   "id": "f1f4c3a2",
   "metadata": {
    "id": "f1f4c3a2"
   },
   "source": [
    "# Monte Carlo simulation of SIS epidemic spreading\n",
    "Monte Carlo simulation of an epidemic spreading dynamics in complex networks, using the SIS model in which each node represents an individual which can be in two possible states: Susceptible (S), i.e., healthy but can get infected; Infected (I), i.e., has the disease and can spread it to its neighbors. <br><br>\n",
    "\n",
    "We are interested in the calculation of the fraction of infected nodes, ρ, in the stationary state, as a function of the infection probability of the disease β (at least 51 values between β=0 and β=1, Δβ=0.02), for different values of the recovery probability μ (e.g. 0.1, 0.5, 0.9). \n"
   ]
  },
  {
   "cell_type": "markdown",
   "id": "680b67bb",
   "metadata": {
    "id": "680b67bb"
   },
   "source": [
    "### Import libraries"
   ]
  },
  {
   "cell_type": "code",
   "execution_count": 1,
   "id": "df167a8c",
   "metadata": {
    "colab": {
     "base_uri": "https://localhost:8080/"
    },
    "id": "df167a8c",
    "outputId": "92864bdb-e68d-4b19-e22a-dd39ec09df49"
   },
   "outputs": [
    {
     "name": "stdout",
     "output_type": "stream",
     "text": [
      "Requirement already satisfied: igraph in c:\\users\\denal\\anaconda3\\lib\\site-packages (0.9.9)\n",
      "Requirement already satisfied: texttable>=1.6.2 in c:\\users\\denal\\anaconda3\\lib\\site-packages (from igraph) (1.6.4)\n"
     ]
    }
   ],
   "source": [
    "!pip install igraph\n",
    "import igraph as ig\n",
    "import numpy as np\n",
    "import time\n",
    "import matplotlib.pyplot as plt\n",
    "%matplotlib inline\n",
    "plt.style.use('seaborn-darkgrid')\n",
    "plt.rcParams[\"figure.figsize\"] = (12, 6)\n",
    "\n",
    "# import cython module for allowing c compilation and static binding to improve the performance\n",
    "%load_ext cython"
   ]
  },
  {
   "cell_type": "markdown",
   "id": "d5c9a3f2",
   "metadata": {
    "id": "d5c9a3f2"
   },
   "source": [
    "Be sure to insall the Cython extension!"
   ]
  },
  {
   "cell_type": "markdown",
   "id": "8a710539",
   "metadata": {
    "id": "8a710539"
   },
   "source": [
    "## Auxiliary functions"
   ]
  },
  {
   "cell_type": "markdown",
   "id": "295211dc",
   "metadata": {
    "id": "295211dc"
   },
   "source": [
    "### Simulation function\n",
    "The function below performs 1 full simulation of SIS epidemic spreading. <br>\n",
    "Since this function is very expensive and it needs to be called at each performed simulation, we declare it as a c function and we add also some static binding for some of the used variables. <br>\n",
    "In this way we greatly improve the performance of the algorithm. <br><br>\n",
    "The simulation function takes in input:\n",
    "* the graph g and its length\n",
    "* the array of initial states (randomly generated): it is an array of the same size as the one of the network, where each cell indicates the state of the corresponding node (1 stands for I and 0 stands for S)\n",
    "* the 2 main paramters of the SIS model, i.e. µ and β\n",
    "\n",
    "The function performs TMAX iterations and it returns the average of ρ(t) calcualating considering the mean of the ρ values obtained after TTRANS iterations, when we assume that the systems has \n",
    "reached the stationary state. <br>\n",
    "\n",
    "Indeed, the simulation requires also 2 extra parameters:\n",
    "* TMAX  maximum number of time steps of each simulation\n",
    "* TTRANS  number of steps of the transitory"
   ]
  },
  {
   "cell_type": "code",
   "execution_count": 2,
   "id": "7dd52da7",
   "metadata": {
    "id": "7dd52da7",
    "scrolled": false
   },
   "outputs": [],
   "source": [
    "%%cython\n",
    "import numpy as np\n",
    "import igraph as ig\n",
    "from libc.math cimport pow # import C pow function\n",
    "from libc.stdlib cimport rand, srand, RAND_MAX # import C random functions\n",
    "from libc.time cimport time,time_t # import C time function\n",
    "\n",
    "def simulation(g, int len_g, char[:] state, double mu, double beta):\n",
    "    \n",
    "    \"\"\"\n",
    "    Applies one simulation to the graph in argument and returns \n",
    "    the average infection rate over the stationary time steps\n",
    "    \"\"\" \n",
    "    \n",
    "    # Constants\n",
    "    cdef int TMAX = 1000 # maximum number of time steps of each simulation\n",
    "    cdef int TTRANS = 900 # number of steps of the transitory\n",
    "    \n",
    "    # Declared variables\n",
    "    cdef double[:] infected_ratio_list = np.zeros(TMAX - TTRANS) # infection ratio at each step of the stationary\n",
    "    cdef int i, j, v, n # counters\n",
    "    cdef int infected_vertices # number of infected neighbors\n",
    "    cdef char[:] old_state = np.zeros(len_g, dtype = np.int8) # array of the states of the nodes in the previous iteration\n",
    "    cdef double prob # probability value between 0 and 1\n",
    "    cdef double a = RAND_MAX\n",
    "    cdef int num_infected = 0 # counter of the number of infected vertices at each time step\n",
    "    \n",
    "    # set random seed \n",
    "    srand(time(NULL)) \n",
    "    \n",
    "    #simulation loop\n",
    "    for i in range(TMAX):\n",
    "        \n",
    "        if i >= TTRANS:\n",
    "            num_infected = 0\n",
    "            \n",
    "        # copy old state\n",
    "        for j in range(len_g):\n",
    "            old_state[j] = state[j]\n",
    "        \n",
    "        # update states of all nodes\n",
    "        for j in range(len_g):\n",
    "            \n",
    "            # if old node state is I\n",
    "            if old_state[j]:\n",
    "                prob = rand() / a # generate random number in [0, 1]\n",
    "                if prob < mu: # update new state\n",
    "                    state[j] = 0 \n",
    "                else:\n",
    "                    state[j] = 1\n",
    "                \n",
    "            # if old node state is S\n",
    "            else:\n",
    "                infected_vertices = 0  # counter of the infected vertices of current SUSCECTIBLE node\n",
    "                \n",
    "                for n in g.neighbors(j):\n",
    "                    infected_vertices += old_state[n]\n",
    "                prob = rand() / a\n",
    "                if prob < pow(1 - beta, infected_vertices):\n",
    "                    state[j] = 0\n",
    "                else:\n",
    "                    state[j] = 1\n",
    "                    \n",
    "            # we compute infection ratio from iteration 900\n",
    "            if i >= TTRANS:\n",
    "                num_infected += state[j]\n",
    "            \n",
    "        if i >= TTRANS:\n",
    "            infected_ratio_list[i - TTRANS] = num_infected/len_g\n",
    "\n",
    "    # returns the average infected ratio (calculated only over the stationary)    \n",
    "    return np.mean(np.array(infected_ratio_list)) "
   ]
  },
  {
   "cell_type": "markdown",
   "id": "72e58585",
   "metadata": {
    "id": "72e58585"
   },
   "source": [
    "### Perform n simulations\n",
    "\n",
    "Let's define an auxiliary function for performing NREP simulations\n"
   ]
  },
  {
   "cell_type": "code",
   "execution_count": 3,
   "id": "b05dc00b",
   "metadata": {
    "id": "b05dc00b"
   },
   "outputs": [],
   "source": [
    "NREP = 100"
   ]
  },
  {
   "cell_type": "code",
   "execution_count": 4,
   "id": "933ddf50",
   "metadata": {
    "id": "933ddf50"
   },
   "outputs": [
    {
     "name": "stdout",
     "output_type": "stream",
     "text": [
      "Requirement already satisfied: tqdm in c:\\users\\denal\\anaconda3\\lib\\site-packages (4.63.0)\n",
      "Requirement already satisfied: colorama in c:\\users\\denal\\anaconda3\\lib\\site-packages (from tqdm) (0.4.4)\n"
     ]
    }
   ],
   "source": [
    "!pip install tqdm\n",
    "from tqdm import tqdm\n",
    "def perform_n_iterations(g, len_g, MU, BETA, n=NREP):\n",
    "    \n",
    "    start_t = time.time()\n",
    "    infected_ratio_list = np.zeros(NREP) # vector with avg infection ratio of each simulation\n",
    "    \n",
    "    for i in tqdm(range(NREP)):\n",
    "        \n",
    "        start_time = time.time()\n",
    "        state = np.array(np.random.binomial(1, P0, size=len_g), dtype=np.int8) # initial state\n",
    "        \n",
    "        infected_ratio_list[i] = simulation(g, len_g, state, MU, BETA)\n",
    "        #print(\"Time required by simulation {}: {} seconds\".format(i+1, time.time()-start_time))\n",
    "    #print(\"\\nTime required by {} simulations: {} seconds\\n\\n\".format(n, time.time() - start_t))\n",
    "    \n",
    "    return np.mean(infected_ratio_list) # return average of averages over 100 iterations"
   ]
  },
  {
   "cell_type": "markdown",
   "id": "992d9560",
   "metadata": {
    "id": "992d9560"
   },
   "source": [
    "### Iterate over β\n",
    "We need now to iterate over different beta values"
   ]
  },
  {
   "cell_type": "code",
   "execution_count": 5,
   "id": "e9cd29ab",
   "metadata": {
    "id": "e9cd29ab"
   },
   "outputs": [],
   "source": [
    "def iterate_over_beta(g, len_g, MU, beta_list): # notice that MU is given\n",
    "    # avg ρ for each β\n",
    "    avg_over_beta = np.zeros(len(beta_list))\n",
    "    \n",
    "    for i, beta in enumerate(beta_list):\n",
    "        print(\"Calculate value for beta = {} (mu = {})\".format(beta, MU))\n",
    "        avg_over_beta[i] = perform_n_iterations(g, len_g, MU, beta, NREP) \n",
    "        \n",
    "    # returns the value for each beta value given the MU value\n",
    "    return avg_over_beta "
   ]
  },
  {
   "cell_type": "markdown",
   "id": "18e86d0c",
   "metadata": {},
   "source": [
    "## Microscopic Markov Chain Approach (MMCA) model\n",
    "Auxiliary function for applying the MMCA approach, which allows to capture the microsopic dynamics at the individual level by computing the probability that any node is infected in the steady state. <br> In particular, we consider a reactive process, i.e. we assume that each node contacts all of his neighbors at each time step, and we formulate the MMCA for the case without one-step reinfections, i.e. only nodes suscetible at the beginning of the time step can be infected. <br>\n",
    "The MMCA model equation, to be solved iteratively is the following:<br>\n",
    "<h4><center>pi(t + 1) = (1 − pi(t))(1 − qi(t)) + (1 − μ)pi(t)</center></h4> <br>\n",
    "\n",
    "Where:\n",
    "* pi(t) represents the probability of node i being infected at time step i\n",
    "* qi(t) represents the probability that a node is not being infected by any neighbor\n",
    "\n",
    "At the end, we'll compare the ρ(β) result from Monte Carlo simulations with the theoretical prediction provided by the Microscopic Markov Chain Approach (MMCA) model. <br>\n",
    "Again, we use cython to speedup the computation.\n",
    "\n"
   ]
  },
  {
   "cell_type": "code",
   "execution_count": 6,
   "id": "26b4543f",
   "metadata": {},
   "outputs": [],
   "source": [
    "%%cython\n",
    "import numpy as np\n",
    "import igraph as ig\n",
    "\n",
    "def MMCA_model(g, int len_g, double[:] probs, double mu, double beta):\n",
    "    \n",
    "    \"\"\"\n",
    "    Applies iteratively the MMCA equation to the graph in argument and returns the average infection rate over the last 2 steps\n",
    "    \"\"\" \n",
    "    \n",
    "    # Constants\n",
    "    cdef int TMAX = 1000 # maximum number of iterations of the equation    \n",
    "    \n",
    "    # Declared variables\n",
    "    cdef int i, j, v # counters\n",
    "    cdef double[:] old_probs = np.zeros(len_g) # array of node probabilites of being infected in the previous step\n",
    "    cdef double q_i # probability that a node is not infected by any neighbour\n",
    "    \n",
    "    #equation iterations\n",
    "    for i in range(TMAX):\n",
    "             \n",
    "        # copy old probabilities\n",
    "        for j in range(len_g):\n",
    "            old_probs[j] = probs[j]\n",
    "        \n",
    "        # apply equation to each node\n",
    "        for j in range(len_g):\n",
    "            q_i = 1 # initialize q_i\n",
    "            \n",
    "            # compute the probability that current node is NOT infected by any neighbor\n",
    "            for v in g.neighbors(j):\n",
    "                q_i = q_i * (1 - beta * old_probs[v])\n",
    "            \n",
    "            # apply equation to obtain the new probaility of being infected\n",
    "            probs[j] = (1 - old_probs[j]) * (1 - q_i) + (1 - mu) * old_probs[j]\n",
    "\n",
    "   \n",
    "    return ((np.mean(probs) + np.mean(old_probs)) / 2)"
   ]
  },
  {
   "cell_type": "markdown",
   "id": "85f6e2a3",
   "metadata": {},
   "source": [
    "In order to perform the calculations over multiple beta values:"
   ]
  },
  {
   "cell_type": "code",
   "execution_count": 7,
   "id": "670f271c",
   "metadata": {},
   "outputs": [],
   "source": [
    "def iterate_over_beta_MMCA(g, len_g, MU, beta_list): # notice that MU is given\n",
    "    # ρ for each β \n",
    "    ro_over_beta = np.zeros(len(beta_list))\n",
    "    \n",
    "    for i, beta in enumerate(tqdm(beta_list)):\n",
    "        probs = np.full(len_g, P0) # array with initial node probabilities of being infected\n",
    "        ro_over_beta[i] = MMCA_model(g, len_g, probs, MU, beta)\n",
    "    # returns the value for each beta value given the MU value\n",
    "    return ro_over_beta"
   ]
  },
  {
   "cell_type": "markdown",
   "id": "e4378a1a",
   "metadata": {
    "id": "e4378a1a"
   },
   "source": [
    "# Example"
   ]
  },
  {
   "cell_type": "markdown",
   "id": "c01b5105",
   "metadata": {
    "id": "c01b5105"
   },
   "source": [
    "## Network"
   ]
  },
  {
   "cell_type": "code",
   "execution_count": 8,
   "id": "440825f7",
   "metadata": {
    "id": "440825f7"
   },
   "outputs": [],
   "source": [
    "len_g = 1000\n",
    "g = ig.Graph.Barabasi(len_g, 5)\n",
    "#g = ig.Graph.Erdos_Renyi(n=500, p=0.2)\n",
    "net_name = \"ER(N=500, p=0.2)\"\n",
    "file_name = \"ER-500-02\""
   ]
  },
  {
   "cell_type": "markdown",
   "id": "4bb6ec2e",
   "metadata": {
    "id": "4bb6ec2e"
   },
   "source": [
    "### Some network descriptors\n",
    "We use networkx"
   ]
  },
  {
   "cell_type": "code",
   "execution_count": 9,
   "id": "5c9b83f1",
   "metadata": {
    "colab": {
     "base_uri": "https://localhost:8080/"
    },
    "id": "5c9b83f1",
    "outputId": "71e2c9ea-00eb-4400-f21a-133d971831c0"
   },
   "outputs": [
    {
     "name": "stdout",
     "output_type": "stream",
     "text": [
      "Number of nodes: 1000\n",
      "Number of edges: 4985\n",
      "Min degree: 5\n",
      "Max degree: 108\n",
      "Avg degree: 9.97\n",
      "Clustering: 0.0328\n",
      "Assortativity: -0.0151\n",
      "Avg path length: 3.0198\n",
      "Diameter: 5\n"
     ]
    }
   ],
   "source": [
    "import networkx as nx\n",
    "\n",
    "# read the net as a networkx network\n",
    "#path = os.path.join(\"nets\", network_f, network_name + '.net')\n",
    "#G = nx.read_pajek(path)\n",
    "\n",
    "A = g.get_edgelist()\n",
    "G = nx.Graph(A)\n",
    "\n",
    "nnodes = G.number_of_nodes()\n",
    "print(\"Number of nodes: {}\".format(nnodes))\n",
    "#G.nodes()\n",
    "\n",
    "print(\"Number of edges: {}\".format(G.number_of_edges()))\n",
    "#G.edges()\n",
    "\n",
    "degrees_values = [val for key,val in G.degree()] # degree for each node\n",
    "#degrees_values\n",
    "\n",
    "print(\"Min degree: {}\".format(np.min(degrees_values)))\n",
    "print(\"Max degree: {}\".format(np.max(degrees_values)))\n",
    "print(\"Avg degree: {}\".format(round(np.mean(degrees_values), 4)))\n",
    "#G = nx.Graph(G)\n",
    "\n",
    "print(\"Clustering: {}\".format(round(nx.average_clustering(G), 4)))\n",
    "print(\"Assortativity: {}\".format(round(nx.degree_assortativity_coefficient(G), 4)))\n",
    "if nx.is_connected(G):\n",
    "    print(\"Avg path length: {}\".format(round(nx.average_shortest_path_length(G), 4)))\n",
    "    print(\"Diameter: {}\".format(nx.diameter(G)))\n"
   ]
  },
  {
   "cell_type": "markdown",
   "id": "b6c9afa1",
   "metadata": {
    "id": "b6c9afa1"
   },
   "source": [
    "### Plot of the network"
   ]
  },
  {
   "cell_type": "code",
   "execution_count": 10,
   "id": "dc3f2c26",
   "metadata": {
    "colab": {
     "base_uri": "https://localhost:8080/",
     "height": 319
    },
    "id": "dc3f2c26",
    "outputId": "78f3f2df-35bf-4eeb-c39b-1827cdde9c18"
   },
   "outputs": [
    {
     "ename": "KeyboardInterrupt",
     "evalue": "",
     "output_type": "error",
     "traceback": [
      "\u001b[1;31m---------------------------------------------------------------------------\u001b[0m",
      "\u001b[1;31mKeyboardInterrupt\u001b[0m                         Traceback (most recent call last)",
      "Input \u001b[1;32mIn [10]\u001b[0m, in \u001b[0;36m<cell line: 1>\u001b[1;34m()\u001b[0m\n\u001b[1;32m----> 1\u001b[0m pos \u001b[38;5;241m=\u001b[39m \u001b[43mnx\u001b[49m\u001b[38;5;241;43m.\u001b[39;49m\u001b[43mkamada_kawai_layout\u001b[49m\u001b[43m(\u001b[49m\u001b[43mG\u001b[49m\u001b[43m)\u001b[49m\n\u001b[0;32m      2\u001b[0m \u001b[38;5;66;03m# perform the drawing, by using the node coordinates calculated above\u001b[39;00m\n\u001b[0;32m      3\u001b[0m \n\u001b[0;32m      4\u001b[0m \u001b[38;5;66;03m# select node size depending on the network size\u001b[39;00m\n\u001b[0;32m      5\u001b[0m \u001b[38;5;28;01mif\u001b[39;00m nnodes \u001b[38;5;241m>\u001b[39m\u001b[38;5;241m=\u001b[39m \u001b[38;5;241m2000\u001b[39m:\n",
      "File \u001b[1;32m~\\anaconda3\\lib\\site-packages\\networkx\\drawing\\layout.py:709\u001b[0m, in \u001b[0;36mkamada_kawai_layout\u001b[1;34m(G, dist, pos, weight, scale, center, dim)\u001b[0m\n\u001b[0;32m    706\u001b[0m         pos \u001b[38;5;241m=\u001b[39m {n: pt \u001b[38;5;28;01mfor\u001b[39;00m n, pt \u001b[38;5;129;01min\u001b[39;00m \u001b[38;5;28mzip\u001b[39m(G, np\u001b[38;5;241m.\u001b[39mlinspace(\u001b[38;5;241m0\u001b[39m, \u001b[38;5;241m1\u001b[39m, \u001b[38;5;28mlen\u001b[39m(G)))}\n\u001b[0;32m    707\u001b[0m pos_arr \u001b[38;5;241m=\u001b[39m np\u001b[38;5;241m.\u001b[39marray([pos[n] \u001b[38;5;28;01mfor\u001b[39;00m n \u001b[38;5;129;01min\u001b[39;00m G])\n\u001b[1;32m--> 709\u001b[0m pos \u001b[38;5;241m=\u001b[39m \u001b[43m_kamada_kawai_solve\u001b[49m\u001b[43m(\u001b[49m\u001b[43mdist_mtx\u001b[49m\u001b[43m,\u001b[49m\u001b[43m \u001b[49m\u001b[43mpos_arr\u001b[49m\u001b[43m,\u001b[49m\u001b[43m \u001b[49m\u001b[43mdim\u001b[49m\u001b[43m)\u001b[49m\n\u001b[0;32m    711\u001b[0m pos \u001b[38;5;241m=\u001b[39m rescale_layout(pos, scale\u001b[38;5;241m=\u001b[39mscale) \u001b[38;5;241m+\u001b[39m center\n\u001b[0;32m    712\u001b[0m \u001b[38;5;28;01mreturn\u001b[39;00m \u001b[38;5;28mdict\u001b[39m(\u001b[38;5;28mzip\u001b[39m(G, pos))\n",
      "File \u001b[1;32m~\\anaconda3\\lib\\site-packages\\networkx\\drawing\\layout.py:727\u001b[0m, in \u001b[0;36m_kamada_kawai_solve\u001b[1;34m(dist_mtx, pos_arr, dim)\u001b[0m\n\u001b[0;32m    724\u001b[0m meanwt \u001b[38;5;241m=\u001b[39m \u001b[38;5;241m1e-3\u001b[39m\n\u001b[0;32m    725\u001b[0m costargs \u001b[38;5;241m=\u001b[39m (np, \u001b[38;5;241m1\u001b[39m \u001b[38;5;241m/\u001b[39m (dist_mtx \u001b[38;5;241m+\u001b[39m np\u001b[38;5;241m.\u001b[39meye(dist_mtx\u001b[38;5;241m.\u001b[39mshape[\u001b[38;5;241m0\u001b[39m]) \u001b[38;5;241m*\u001b[39m \u001b[38;5;241m1e-3\u001b[39m), meanwt, dim)\n\u001b[1;32m--> 727\u001b[0m optresult \u001b[38;5;241m=\u001b[39m \u001b[43msp\u001b[49m\u001b[38;5;241;43m.\u001b[39;49m\u001b[43moptimize\u001b[49m\u001b[38;5;241;43m.\u001b[39;49m\u001b[43mminimize\u001b[49m\u001b[43m(\u001b[49m\n\u001b[0;32m    728\u001b[0m \u001b[43m    \u001b[49m\u001b[43m_kamada_kawai_costfn\u001b[49m\u001b[43m,\u001b[49m\n\u001b[0;32m    729\u001b[0m \u001b[43m    \u001b[49m\u001b[43mpos_arr\u001b[49m\u001b[38;5;241;43m.\u001b[39;49m\u001b[43mravel\u001b[49m\u001b[43m(\u001b[49m\u001b[43m)\u001b[49m\u001b[43m,\u001b[49m\n\u001b[0;32m    730\u001b[0m \u001b[43m    \u001b[49m\u001b[43mmethod\u001b[49m\u001b[38;5;241;43m=\u001b[39;49m\u001b[38;5;124;43m\"\u001b[39;49m\u001b[38;5;124;43mL-BFGS-B\u001b[39;49m\u001b[38;5;124;43m\"\u001b[39;49m\u001b[43m,\u001b[49m\n\u001b[0;32m    731\u001b[0m \u001b[43m    \u001b[49m\u001b[43margs\u001b[49m\u001b[38;5;241;43m=\u001b[39;49m\u001b[43mcostargs\u001b[49m\u001b[43m,\u001b[49m\n\u001b[0;32m    732\u001b[0m \u001b[43m    \u001b[49m\u001b[43mjac\u001b[49m\u001b[38;5;241;43m=\u001b[39;49m\u001b[38;5;28;43;01mTrue\u001b[39;49;00m\u001b[43m,\u001b[49m\n\u001b[0;32m    733\u001b[0m \u001b[43m\u001b[49m\u001b[43m)\u001b[49m\n\u001b[0;32m    735\u001b[0m \u001b[38;5;28;01mreturn\u001b[39;00m optresult\u001b[38;5;241m.\u001b[39mx\u001b[38;5;241m.\u001b[39mreshape((\u001b[38;5;241m-\u001b[39m\u001b[38;5;241m1\u001b[39m, dim))\n",
      "File \u001b[1;32m~\\anaconda3\\lib\\site-packages\\scipy\\optimize\\_minimize.py:623\u001b[0m, in \u001b[0;36mminimize\u001b[1;34m(fun, x0, args, method, jac, hess, hessp, bounds, constraints, tol, callback, options)\u001b[0m\n\u001b[0;32m    620\u001b[0m     \u001b[38;5;28;01mreturn\u001b[39;00m _minimize_newtoncg(fun, x0, args, jac, hess, hessp, callback,\n\u001b[0;32m    621\u001b[0m                               \u001b[38;5;241m*\u001b[39m\u001b[38;5;241m*\u001b[39moptions)\n\u001b[0;32m    622\u001b[0m \u001b[38;5;28;01melif\u001b[39;00m meth \u001b[38;5;241m==\u001b[39m \u001b[38;5;124m'\u001b[39m\u001b[38;5;124ml-bfgs-b\u001b[39m\u001b[38;5;124m'\u001b[39m:\n\u001b[1;32m--> 623\u001b[0m     \u001b[38;5;28;01mreturn\u001b[39;00m _minimize_lbfgsb(fun, x0, args, jac, bounds,\n\u001b[0;32m    624\u001b[0m                             callback\u001b[38;5;241m=\u001b[39mcallback, \u001b[38;5;241m*\u001b[39m\u001b[38;5;241m*\u001b[39moptions)\n\u001b[0;32m    625\u001b[0m \u001b[38;5;28;01melif\u001b[39;00m meth \u001b[38;5;241m==\u001b[39m \u001b[38;5;124m'\u001b[39m\u001b[38;5;124mtnc\u001b[39m\u001b[38;5;124m'\u001b[39m:\n\u001b[0;32m    626\u001b[0m     \u001b[38;5;28;01mreturn\u001b[39;00m _minimize_tnc(fun, x0, args, jac, bounds, callback\u001b[38;5;241m=\u001b[39mcallback,\n\u001b[0;32m    627\u001b[0m                          \u001b[38;5;241m*\u001b[39m\u001b[38;5;241m*\u001b[39moptions)\n",
      "File \u001b[1;32m~\\anaconda3\\lib\\site-packages\\scipy\\optimize\\lbfgsb.py:360\u001b[0m, in \u001b[0;36m_minimize_lbfgsb\u001b[1;34m(fun, x0, args, jac, bounds, disp, maxcor, ftol, gtol, eps, maxfun, maxiter, iprint, callback, maxls, finite_diff_rel_step, **unknown_options)\u001b[0m\n\u001b[0;32m    354\u001b[0m task_str \u001b[38;5;241m=\u001b[39m task\u001b[38;5;241m.\u001b[39mtobytes()\n\u001b[0;32m    355\u001b[0m \u001b[38;5;28;01mif\u001b[39;00m task_str\u001b[38;5;241m.\u001b[39mstartswith(\u001b[38;5;124mb\u001b[39m\u001b[38;5;124m'\u001b[39m\u001b[38;5;124mFG\u001b[39m\u001b[38;5;124m'\u001b[39m):\n\u001b[0;32m    356\u001b[0m     \u001b[38;5;66;03m# The minimization routine wants f and g at the current x.\u001b[39;00m\n\u001b[0;32m    357\u001b[0m     \u001b[38;5;66;03m# Note that interruptions due to maxfun are postponed\u001b[39;00m\n\u001b[0;32m    358\u001b[0m     \u001b[38;5;66;03m# until the completion of the current minimization iteration.\u001b[39;00m\n\u001b[0;32m    359\u001b[0m     \u001b[38;5;66;03m# Overwrite f and g:\u001b[39;00m\n\u001b[1;32m--> 360\u001b[0m     f, g \u001b[38;5;241m=\u001b[39m \u001b[43mfunc_and_grad\u001b[49m\u001b[43m(\u001b[49m\u001b[43mx\u001b[49m\u001b[43m)\u001b[49m\n\u001b[0;32m    361\u001b[0m \u001b[38;5;28;01melif\u001b[39;00m task_str\u001b[38;5;241m.\u001b[39mstartswith(\u001b[38;5;124mb\u001b[39m\u001b[38;5;124m'\u001b[39m\u001b[38;5;124mNEW_X\u001b[39m\u001b[38;5;124m'\u001b[39m):\n\u001b[0;32m    362\u001b[0m     \u001b[38;5;66;03m# new iteration\u001b[39;00m\n\u001b[0;32m    363\u001b[0m     n_iterations \u001b[38;5;241m+\u001b[39m\u001b[38;5;241m=\u001b[39m \u001b[38;5;241m1\u001b[39m\n",
      "File \u001b[1;32m~\\anaconda3\\lib\\site-packages\\scipy\\optimize\\_differentiable_functions.py:267\u001b[0m, in \u001b[0;36mScalarFunction.fun_and_grad\u001b[1;34m(self, x)\u001b[0m\n\u001b[0;32m    265\u001b[0m \u001b[38;5;28;01mif\u001b[39;00m \u001b[38;5;129;01mnot\u001b[39;00m np\u001b[38;5;241m.\u001b[39marray_equal(x, \u001b[38;5;28mself\u001b[39m\u001b[38;5;241m.\u001b[39mx):\n\u001b[0;32m    266\u001b[0m     \u001b[38;5;28mself\u001b[39m\u001b[38;5;241m.\u001b[39m_update_x_impl(x)\n\u001b[1;32m--> 267\u001b[0m \u001b[38;5;28;43mself\u001b[39;49m\u001b[38;5;241;43m.\u001b[39;49m\u001b[43m_update_fun\u001b[49m\u001b[43m(\u001b[49m\u001b[43m)\u001b[49m\n\u001b[0;32m    268\u001b[0m \u001b[38;5;28mself\u001b[39m\u001b[38;5;241m.\u001b[39m_update_grad()\n\u001b[0;32m    269\u001b[0m \u001b[38;5;28;01mreturn\u001b[39;00m \u001b[38;5;28mself\u001b[39m\u001b[38;5;241m.\u001b[39mf, \u001b[38;5;28mself\u001b[39m\u001b[38;5;241m.\u001b[39mg\n",
      "File \u001b[1;32m~\\anaconda3\\lib\\site-packages\\scipy\\optimize\\_differentiable_functions.py:233\u001b[0m, in \u001b[0;36mScalarFunction._update_fun\u001b[1;34m(self)\u001b[0m\n\u001b[0;32m    231\u001b[0m \u001b[38;5;28;01mdef\u001b[39;00m \u001b[38;5;21m_update_fun\u001b[39m(\u001b[38;5;28mself\u001b[39m):\n\u001b[0;32m    232\u001b[0m     \u001b[38;5;28;01mif\u001b[39;00m \u001b[38;5;129;01mnot\u001b[39;00m \u001b[38;5;28mself\u001b[39m\u001b[38;5;241m.\u001b[39mf_updated:\n\u001b[1;32m--> 233\u001b[0m         \u001b[38;5;28;43mself\u001b[39;49m\u001b[38;5;241;43m.\u001b[39;49m\u001b[43m_update_fun_impl\u001b[49m\u001b[43m(\u001b[49m\u001b[43m)\u001b[49m\n\u001b[0;32m    234\u001b[0m         \u001b[38;5;28mself\u001b[39m\u001b[38;5;241m.\u001b[39mf_updated \u001b[38;5;241m=\u001b[39m \u001b[38;5;28;01mTrue\u001b[39;00m\n",
      "File \u001b[1;32m~\\anaconda3\\lib\\site-packages\\scipy\\optimize\\_differentiable_functions.py:137\u001b[0m, in \u001b[0;36mScalarFunction.__init__.<locals>.update_fun\u001b[1;34m()\u001b[0m\n\u001b[0;32m    136\u001b[0m \u001b[38;5;28;01mdef\u001b[39;00m \u001b[38;5;21mupdate_fun\u001b[39m():\n\u001b[1;32m--> 137\u001b[0m     \u001b[38;5;28mself\u001b[39m\u001b[38;5;241m.\u001b[39mf \u001b[38;5;241m=\u001b[39m \u001b[43mfun_wrapped\u001b[49m\u001b[43m(\u001b[49m\u001b[38;5;28;43mself\u001b[39;49m\u001b[38;5;241;43m.\u001b[39;49m\u001b[43mx\u001b[49m\u001b[43m)\u001b[49m\n",
      "File \u001b[1;32m~\\anaconda3\\lib\\site-packages\\scipy\\optimize\\_differentiable_functions.py:134\u001b[0m, in \u001b[0;36mScalarFunction.__init__.<locals>.fun_wrapped\u001b[1;34m(x)\u001b[0m\n\u001b[0;32m    130\u001b[0m \u001b[38;5;28mself\u001b[39m\u001b[38;5;241m.\u001b[39mnfev \u001b[38;5;241m+\u001b[39m\u001b[38;5;241m=\u001b[39m \u001b[38;5;241m1\u001b[39m\n\u001b[0;32m    131\u001b[0m \u001b[38;5;66;03m# Send a copy because the user may overwrite it.\u001b[39;00m\n\u001b[0;32m    132\u001b[0m \u001b[38;5;66;03m# Overwriting results in undefined behaviour because\u001b[39;00m\n\u001b[0;32m    133\u001b[0m \u001b[38;5;66;03m# fun(self.x) will change self.x, with the two no longer linked.\u001b[39;00m\n\u001b[1;32m--> 134\u001b[0m \u001b[38;5;28;01mreturn\u001b[39;00m \u001b[43mfun\u001b[49m\u001b[43m(\u001b[49m\u001b[43mnp\u001b[49m\u001b[38;5;241;43m.\u001b[39;49m\u001b[43mcopy\u001b[49m\u001b[43m(\u001b[49m\u001b[43mx\u001b[49m\u001b[43m)\u001b[49m\u001b[43m,\u001b[49m\u001b[43m \u001b[49m\u001b[38;5;241;43m*\u001b[39;49m\u001b[43margs\u001b[49m\u001b[43m)\u001b[49m\n",
      "File \u001b[1;32m~\\anaconda3\\lib\\site-packages\\scipy\\optimize\\optimize.py:74\u001b[0m, in \u001b[0;36mMemoizeJac.__call__\u001b[1;34m(self, x, *args)\u001b[0m\n\u001b[0;32m     72\u001b[0m \u001b[38;5;28;01mdef\u001b[39;00m \u001b[38;5;21m__call__\u001b[39m(\u001b[38;5;28mself\u001b[39m, x, \u001b[38;5;241m*\u001b[39margs):\n\u001b[0;32m     73\u001b[0m     \u001b[38;5;124;03m\"\"\" returns the the function value \"\"\"\u001b[39;00m\n\u001b[1;32m---> 74\u001b[0m     \u001b[38;5;28;43mself\u001b[39;49m\u001b[38;5;241;43m.\u001b[39;49m\u001b[43m_compute_if_needed\u001b[49m\u001b[43m(\u001b[49m\u001b[43mx\u001b[49m\u001b[43m,\u001b[49m\u001b[43m \u001b[49m\u001b[38;5;241;43m*\u001b[39;49m\u001b[43margs\u001b[49m\u001b[43m)\u001b[49m\n\u001b[0;32m     75\u001b[0m     \u001b[38;5;28;01mreturn\u001b[39;00m \u001b[38;5;28mself\u001b[39m\u001b[38;5;241m.\u001b[39m_value\n",
      "File \u001b[1;32m~\\anaconda3\\lib\\site-packages\\scipy\\optimize\\optimize.py:68\u001b[0m, in \u001b[0;36mMemoizeJac._compute_if_needed\u001b[1;34m(self, x, *args)\u001b[0m\n\u001b[0;32m     66\u001b[0m \u001b[38;5;28;01mif\u001b[39;00m \u001b[38;5;129;01mnot\u001b[39;00m np\u001b[38;5;241m.\u001b[39mall(x \u001b[38;5;241m==\u001b[39m \u001b[38;5;28mself\u001b[39m\u001b[38;5;241m.\u001b[39mx) \u001b[38;5;129;01mor\u001b[39;00m \u001b[38;5;28mself\u001b[39m\u001b[38;5;241m.\u001b[39m_value \u001b[38;5;129;01mis\u001b[39;00m \u001b[38;5;28;01mNone\u001b[39;00m \u001b[38;5;129;01mor\u001b[39;00m \u001b[38;5;28mself\u001b[39m\u001b[38;5;241m.\u001b[39mjac \u001b[38;5;129;01mis\u001b[39;00m \u001b[38;5;28;01mNone\u001b[39;00m:\n\u001b[0;32m     67\u001b[0m     \u001b[38;5;28mself\u001b[39m\u001b[38;5;241m.\u001b[39mx \u001b[38;5;241m=\u001b[39m np\u001b[38;5;241m.\u001b[39masarray(x)\u001b[38;5;241m.\u001b[39mcopy()\n\u001b[1;32m---> 68\u001b[0m     fg \u001b[38;5;241m=\u001b[39m \u001b[38;5;28;43mself\u001b[39;49m\u001b[38;5;241;43m.\u001b[39;49m\u001b[43mfun\u001b[49m\u001b[43m(\u001b[49m\u001b[43mx\u001b[49m\u001b[43m,\u001b[49m\u001b[43m \u001b[49m\u001b[38;5;241;43m*\u001b[39;49m\u001b[43margs\u001b[49m\u001b[43m)\u001b[49m\n\u001b[0;32m     69\u001b[0m     \u001b[38;5;28mself\u001b[39m\u001b[38;5;241m.\u001b[39mjac \u001b[38;5;241m=\u001b[39m fg[\u001b[38;5;241m1\u001b[39m]\n\u001b[0;32m     70\u001b[0m     \u001b[38;5;28mself\u001b[39m\u001b[38;5;241m.\u001b[39m_value \u001b[38;5;241m=\u001b[39m fg[\u001b[38;5;241m0\u001b[39m]\n",
      "File \u001b[1;32m~\\anaconda3\\lib\\site-packages\\networkx\\drawing\\layout.py:751\u001b[0m, in \u001b[0;36m_kamada_kawai_costfn\u001b[1;34m(pos_vec, np, invdist, meanweight, dim)\u001b[0m\n\u001b[0;32m    748\u001b[0m offset[np\u001b[38;5;241m.\u001b[39mdiag_indices(nNodes)] \u001b[38;5;241m=\u001b[39m \u001b[38;5;241m0\u001b[39m\n\u001b[0;32m    750\u001b[0m cost \u001b[38;5;241m=\u001b[39m \u001b[38;5;241m0.5\u001b[39m \u001b[38;5;241m*\u001b[39m np\u001b[38;5;241m.\u001b[39msum(offset \u001b[38;5;241m*\u001b[39m\u001b[38;5;241m*\u001b[39m \u001b[38;5;241m2\u001b[39m)\n\u001b[1;32m--> 751\u001b[0m grad \u001b[38;5;241m=\u001b[39m np\u001b[38;5;241m.\u001b[39meinsum(\u001b[38;5;124m\"\u001b[39m\u001b[38;5;124mij,ij,ijk->ik\u001b[39m\u001b[38;5;124m\"\u001b[39m, invdist, offset, direction) \u001b[38;5;241m-\u001b[39m \u001b[43mnp\u001b[49m\u001b[38;5;241;43m.\u001b[39;49m\u001b[43meinsum\u001b[49m\u001b[43m(\u001b[49m\n\u001b[0;32m    752\u001b[0m \u001b[43m    \u001b[49m\u001b[38;5;124;43m\"\u001b[39;49m\u001b[38;5;124;43mij,ij,ijk->jk\u001b[39;49m\u001b[38;5;124;43m\"\u001b[39;49m\u001b[43m,\u001b[49m\u001b[43m \u001b[49m\u001b[43minvdist\u001b[49m\u001b[43m,\u001b[49m\u001b[43m \u001b[49m\u001b[43moffset\u001b[49m\u001b[43m,\u001b[49m\u001b[43m \u001b[49m\u001b[43mdirection\u001b[49m\n\u001b[0;32m    753\u001b[0m \u001b[43m\u001b[49m\u001b[43m)\u001b[49m\n\u001b[0;32m    755\u001b[0m \u001b[38;5;66;03m# Additional parabolic term to encourage mean position to be near origin:\u001b[39;00m\n\u001b[0;32m    756\u001b[0m sumpos \u001b[38;5;241m=\u001b[39m np\u001b[38;5;241m.\u001b[39msum(pos_arr, axis\u001b[38;5;241m=\u001b[39m\u001b[38;5;241m0\u001b[39m)\n",
      "File \u001b[1;32m<__array_function__ internals>:5\u001b[0m, in \u001b[0;36meinsum\u001b[1;34m(*args, **kwargs)\u001b[0m\n",
      "File \u001b[1;32m~\\anaconda3\\lib\\site-packages\\numpy\\core\\einsumfunc.py:1359\u001b[0m, in \u001b[0;36meinsum\u001b[1;34m(out, optimize, *operands, **kwargs)\u001b[0m\n\u001b[0;32m   1357\u001b[0m     \u001b[38;5;28;01mif\u001b[39;00m specified_out:\n\u001b[0;32m   1358\u001b[0m         kwargs[\u001b[38;5;124m'\u001b[39m\u001b[38;5;124mout\u001b[39m\u001b[38;5;124m'\u001b[39m] \u001b[38;5;241m=\u001b[39m out\n\u001b[1;32m-> 1359\u001b[0m     \u001b[38;5;28;01mreturn\u001b[39;00m c_einsum(\u001b[38;5;241m*\u001b[39moperands, \u001b[38;5;241m*\u001b[39m\u001b[38;5;241m*\u001b[39mkwargs)\n\u001b[0;32m   1361\u001b[0m \u001b[38;5;66;03m# Check the kwargs to avoid a more cryptic error later, without having to\u001b[39;00m\n\u001b[0;32m   1362\u001b[0m \u001b[38;5;66;03m# repeat default values here\u001b[39;00m\n\u001b[0;32m   1363\u001b[0m valid_einsum_kwargs \u001b[38;5;241m=\u001b[39m [\u001b[38;5;124m'\u001b[39m\u001b[38;5;124mdtype\u001b[39m\u001b[38;5;124m'\u001b[39m, \u001b[38;5;124m'\u001b[39m\u001b[38;5;124morder\u001b[39m\u001b[38;5;124m'\u001b[39m, \u001b[38;5;124m'\u001b[39m\u001b[38;5;124mcasting\u001b[39m\u001b[38;5;124m'\u001b[39m]\n",
      "\u001b[1;31mKeyboardInterrupt\u001b[0m: "
     ]
    }
   ],
   "source": [
    "pos = nx.kamada_kawai_layout(G)\n",
    "# perform the drawing, by using the node coordinates calculated above\n",
    "\n",
    "# select node size depending on the network size\n",
    "if nnodes >= 2000:\n",
    "    node_size = 30\n",
    "elif nnodes >= 1000 and nnodes < 2000:\n",
    "    node_size = 50\n",
    "elif nnodes >= 500 and nnodes  < 1000:\n",
    "    node_size =  150\n",
    "else:\n",
    "    node_size = 250\n",
    "    \n",
    "#p_i = os.path.join(\"images\", network_f, network_name)\n",
    "#if not os.path.exists(p_i):\n",
    "#    os.makedirs(p_i)\n",
    "    \n",
    "nx.draw(G, pos=pos, node_size=node_size, width=0.4, edge_color='0.3', node_color='red')\n",
    "\n",
    "#plt.savefig(os.path.join(p_i, network_name + '_intro-plot.png')) # to save the plot"
   ]
  },
  {
   "cell_type": "markdown",
   "id": "acb2154a",
   "metadata": {
    "id": "acb2154a"
   },
   "source": [
    "### Save network"
   ]
  },
  {
   "cell_type": "code",
   "execution_count": null,
   "id": "9e029d8f",
   "metadata": {
    "id": "9e029d8f"
   },
   "outputs": [],
   "source": [
    "g.write_pajek(net_name)"
   ]
  },
  {
   "cell_type": "markdown",
   "id": "1181d3ef",
   "metadata": {
    "id": "1181d3ef"
   },
   "source": [
    "## Simulation"
   ]
  },
  {
   "cell_type": "code",
   "execution_count": null,
   "id": "361e2ac4",
   "metadata": {
    "id": "361e2ac4"
   },
   "outputs": [],
   "source": [
    "P0 = 0.2"
   ]
  },
  {
   "cell_type": "markdown",
   "id": "d0702b75",
   "metadata": {
    "id": "d0702b75"
   },
   "source": [
    "### Adjust parameters TMAX and TTRANS by performing a simulation\n",
    "For these two parameters it would be better to adjust them using a simulation: we plot \n",
    "ρ(t) to be sure that, after TTrans time steps, the value of ρ has not a clear tendency to \n",
    "increase or decrease, despite the oscillations due to the stochastic nature of the \n",
    "simulation process.\n"
   ]
  },
  {
   "cell_type": "code",
   "execution_count": null,
   "id": "fc33e0d8",
   "metadata": {
    "id": "fc33e0d8"
   },
   "outputs": [],
   "source": [
    "# TODO"
   ]
  },
  {
   "cell_type": "markdown",
   "id": "b3d047ca",
   "metadata": {
    "id": "b3d047ca"
   },
   "source": [
    "### Lists"
   ]
  },
  {
   "cell_type": "code",
   "execution_count": null,
   "id": "1229bbce",
   "metadata": {
    "id": "1229bbce"
   },
   "outputs": [],
   "source": [
    "STEP_BETA = 0.02\n",
    "\n",
    "mu_list = [0.1, 0.5, 0.9]\n",
    "beta_list = np.arange(0.00, 1.00, STEP_BETA)"
   ]
  },
  {
   "cell_type": "code",
   "execution_count": null,
   "id": "66a6c358",
   "metadata": {
    "colab": {
     "base_uri": "https://localhost:8080/"
    },
    "id": "66a6c358",
    "outputId": "5c863bba-b449-422e-dfd3-e30ff5d52aff"
   },
   "outputs": [],
   "source": [
    "len(beta_list) # SHOULD BE AT LEAST 51 VALUES WITH deltaB = 0.02"
   ]
  },
  {
   "cell_type": "code",
   "execution_count": null,
   "id": "0ff93225",
   "metadata": {
    "colab": {
     "base_uri": "https://localhost:8080/"
    },
    "id": "0ff93225",
    "outputId": "0b8c4553-2867-4016-8c1c-6715725477e6"
   },
   "outputs": [],
   "source": [
    "beta_list"
   ]
  },
  {
   "cell_type": "markdown",
   "id": "0ce20b5f",
   "metadata": {
    "id": "0ce20b5f"
   },
   "source": [
    "### Perform the simulation"
   ]
  },
  {
   "cell_type": "code",
   "execution_count": null,
   "id": "075829b8",
   "metadata": {
    "colab": {
     "base_uri": "https://localhost:8080/"
    },
    "id": "075829b8",
    "outputId": "16cb7f4b-075c-4dee-e755-4420d7efb0cc"
   },
   "outputs": [],
   "source": [
    "values_per_mu = []\n",
    "values_per_mu_MMCA = []\n",
    "start_time = time.time()\n",
    "\n",
    "for mu in mu_list:\n",
    "    print(\"Calculate value for mu = {}\\n\".format(mu))\n",
    "    values_per_mu.append(iterate_over_beta(g, len_g, mu, beta_list)) \n",
    "    values_per_mu_MMCA.append(iterate_over_beta_MMCA(g, len_g, mu, beta_list))\n",
    "    \n",
    "print(\"Total required time: {} seconds\".format(time.time() - start_time))"
   ]
  },
  {
   "cell_type": "code",
   "execution_count": null,
   "id": "92b3cabc",
   "metadata": {
    "colab": {
     "base_uri": "https://localhost:8080/"
    },
    "id": "92b3cabc",
    "outputId": "42b1d330-a5b6-4cf5-eec0-00f396e982bf"
   },
   "outputs": [],
   "source": [
    "values_per_mu"
   ]
  },
  {
   "cell_type": "markdown",
   "id": "4ef03f25",
   "metadata": {
    "id": "4ef03f25"
   },
   "source": [
    "### Final Plot (MC simulations and comparison with MMCA)\n",
    "The continuous line represents the MC simulation results, while the points represent the result from the MMCA model."
   ]
  },
  {
   "cell_type": "code",
   "execution_count": null,
   "id": "70e47e2e",
   "metadata": {
    "colab": {
     "base_uri": "https://localhost:8080/",
     "height": 297
    },
    "id": "70e47e2e",
    "outputId": "f49de61f-259c-4cdc-e52e-37c03b26ec37"
   },
   "outputs": [],
   "source": [
    "for i in range(len(mu_list)):\n",
    "    plt.plot(beta_list, values_per_mu[i], label=r'$\\mu$' + '={}'.format(mu_list[i]), linestyle='dashed')\n",
    "    plt.scatter(beta_list, values_per_mu_MMCA[i])\n",
    "    plt.title(r'$\\rho$($\\beta$)', fontsize=15)\n",
    "    plt.xlabel(r'$\\beta$', fontsize=15)\n",
    "    plt.ylabel(r'$\\rho$', fontsize=15)\n",
    "    plt.legend(loc='lower right')\n",
    "    plt.tight_layout()\n",
    "    plt.style.use('seaborn-darkgrid')\n",
    "\n",
    "    plt.savefig(f\"{file_name}.png\")"
   ]
  }
 ],
 "metadata": {
  "colab": {
   "name": "MC_simulation_SIS_final.ipynb",
   "provenance": []
  },
  "kernelspec": {
   "display_name": "Python 3 (ipykernel)",
   "language": "python",
   "name": "python3"
  },
  "language_info": {
   "codemirror_mode": {
    "name": "ipython",
    "version": 3
   },
   "file_extension": ".py",
   "mimetype": "text/x-python",
   "name": "python",
   "nbconvert_exporter": "python",
   "pygments_lexer": "ipython3",
   "version": "3.9.7"
  }
 },
 "nbformat": 4,
 "nbformat_minor": 5
}
